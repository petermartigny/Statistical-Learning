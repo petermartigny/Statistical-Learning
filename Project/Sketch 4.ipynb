{
 "cells": [
  {
   "cell_type": "code",
   "execution_count": 1,
   "metadata": {
    "collapsed": false
   },
   "outputs": [
    {
     "name": "stderr",
     "output_type": "stream",
     "text": [
      "C:\\Users\\Peter martigny\\Anaconda3\\envs\\py35\\lib\\site-packages\\gensim\\utils.py:843: UserWarning: detected Windows; aliasing chunkize to chunkize_serial\n",
      "  warnings.warn(\"detected Windows; aliasing chunkize to chunkize_serial\")\n"
     ]
    }
   ],
   "source": [
    "# Load the model that we created in Part 2\n",
    "from gensim.models import Word2Vec"
   ]
  },
  {
   "cell_type": "code",
   "execution_count": 2,
   "metadata": {
    "collapsed": true
   },
   "outputs": [],
   "source": [
    "model = Word2Vec.load(\"300features_40minwords_10context_full_dataset\")"
   ]
  },
  {
   "cell_type": "code",
   "execution_count": 14,
   "metadata": {
    "collapsed": false
   },
   "outputs": [
    {
     "data": {
      "text/plain": [
       "[('neighbors', 0.6622191667556763),\n",
       " ('relatives', 0.6214653253555298),\n",
       " ('parents', 0.5821553468704224),\n",
       " ('sisters', 0.5591897368431091),\n",
       " ('partner', 0.5534984469413757),\n",
       " ('families', 0.5507222414016724),\n",
       " ('co', 0.5499768257141113),\n",
       " ('welty', 0.5451545119285583),\n",
       " ('colleagues', 0.5450441241264343),\n",
       " ('girlfriend', 0.5401353240013123)]"
      ]
     },
     "execution_count": 14,
     "metadata": {},
     "output_type": "execute_result"
    }
   ],
   "source": [
    "model.most_similar('family')"
   ]
  },
  {
   "cell_type": "code",
   "execution_count": 15,
   "metadata": {
    "collapsed": false
   },
   "outputs": [
    {
     "data": {
      "text/plain": [
       "'dog'"
      ]
     },
     "execution_count": 15,
     "metadata": {},
     "output_type": "execute_result"
    }
   ],
   "source": [
    "model.doesnt_match(\"man woman child dog\".split())"
   ]
  },
  {
   "cell_type": "code",
   "execution_count": 16,
   "metadata": {
    "collapsed": false
   },
   "outputs": [
    {
     "data": {
      "text/plain": [
       "'window'"
      ]
     },
     "execution_count": 16,
     "metadata": {},
     "output_type": "execute_result"
    }
   ],
   "source": [
    "model.doesnt_match(\"amazing wonderful great window\".split())"
   ]
  },
  {
   "cell_type": "code",
   "execution_count": 17,
   "metadata": {
    "collapsed": false
   },
   "outputs": [
    {
     "data": {
      "text/plain": [
       "'england'"
      ]
     },
     "execution_count": 17,
     "metadata": {},
     "output_type": "execute_result"
    }
   ],
   "source": [
    "model.doesnt_match(\"france england germany berlin\".split())"
   ]
  },
  {
   "cell_type": "code",
   "execution_count": 10,
   "metadata": {
    "collapsed": true
   },
   "outputs": [],
   "source": [
    "import numpy as np  # Make sure that numpy is imported\n",
    "\n",
    "def makeFeatureVec(words, model, num_features):\n",
    "    # Function to average all of the word vectors in a given\n",
    "    # paragraph\n",
    "    #\n",
    "    # Pre-initialize an empty numpy array (for speed)\n",
    "    featureVec = np.zeros((num_features,),dtype=\"float32\")\n",
    "    #\n",
    "    nwords = 0.\n",
    "    # \n",
    "    # Index2word is a list that contains the names of the words in \n",
    "    # the model's vocabulary. Convert it to a set, for speed \n",
    "    index2word_set = set(model.index2word)\n",
    "    #\n",
    "    # Loop over each word in the review and, if it is in the model's\n",
    "    # vocaublary, add its feature vector to the total\n",
    "    for word in words:\n",
    "        if word in index2word_set: \n",
    "            nwords = nwords + 1.\n",
    "            featureVec = np.add(featureVec,model[word])\n",
    "    # \n",
    "    # Divide the result by the number of words to get the average\n",
    "    featureVec = np.divide(featureVec,nwords)\n",
    "    return featureVec\n",
    "\n",
    "\n",
    "def getAvgFeatureVecs(reviews, model, num_features):\n",
    "    # Given a set of reviews (each one a list of words), calculate \n",
    "    # the average feature vector for each one and return a 2D numpy array \n",
    "    # \n",
    "    # Initialize a counter\n",
    "    counter = 0.\n",
    "    # \n",
    "    # Preallocate a 2D numpy array, for speed\n",
    "    reviewFeatureVecs = np.zeros((len(reviews),num_features),dtype=\"float32\")\n",
    "    # \n",
    "    # Loop through the reviews\n",
    "    for review in reviews:\n",
    "        #\n",
    "        # Print a status message every 1000th review\n",
    "        if counter%1000. == 0.:\n",
    "            print(\"Review %d of %d\" % (counter, len(reviews)))\n",
    "        # \n",
    "        # Call the function (defined above) that makes average feature vectors\n",
    "        reviewFeatureVecs[counter] = makeFeatureVec(review, model, \\\n",
    "           num_features)\n",
    "        #\n",
    "        # Increment the counter\n",
    "        counter = counter + 1.\n",
    "    return reviewFeatureVecs"
   ]
  },
  {
   "cell_type": "markdown",
   "metadata": {},
   "source": [
    "## Vector averaging"
   ]
  },
  {
   "cell_type": "markdown",
   "metadata": {},
   "source": [
    "#### Load datasets"
   ]
  },
  {
   "cell_type": "code",
   "execution_count": 11,
   "metadata": {
    "collapsed": true
   },
   "outputs": [],
   "source": [
    "import pandas as pd\n",
    "\n",
    "# Take one of the books, with approx uniform distribution for its ratings\n",
    "data = pd.read_csv('Paula_Hawkins-The-Girl-On-The-Train.csv', sep = '\\t', header = None)\n",
    "\n",
    "# Rename columns\n",
    "data.columns = ['rating', 'tail', 'title', 'review']"
   ]
  },
  {
   "cell_type": "code",
   "execution_count": 12,
   "metadata": {
    "collapsed": true
   },
   "outputs": [],
   "source": [
    "# Import various modules for string cleaning\n",
    "from bs4 import BeautifulSoup\n",
    "import re\n",
    "from nltk.corpus import stopwords\n",
    "\n",
    "def review_to_wordlist( review, remove_stopwords=False ):\n",
    "    # Function to convert a document to a sequence of words,\n",
    "    # optionally removing stop words.  Returns a list of words.\n",
    "    #\n",
    "    # 1. Remove HTML\n",
    "    review_text = BeautifulSoup(review, \"html.parser\").get_text()\n",
    "    #  \n",
    "    # 2. Remove non-letters\n",
    "    review_text = re.sub(\"[^a-zA-Z]\",\" \", review_text)\n",
    "    #\n",
    "    # 3. Convert words to lower case and split them\n",
    "    words = review_text.lower().split()\n",
    "    #\n",
    "    # 4. Optionally remove stop words (false by default)\n",
    "    if remove_stopwords:\n",
    "        stops = set(stopwords.words(\"english\"))\n",
    "        words = [w for w in words if not w in stops]\n",
    "    #\n",
    "    # 5. Return a list of words\n",
    "    return(words)"
   ]
  },
  {
   "cell_type": "code",
   "execution_count": 13,
   "metadata": {
    "collapsed": true
   },
   "outputs": [],
   "source": [
    "import time\n",
    "num_features = 300    # Word vector dimensionality                      \n",
    "min_word_count = 40   # Minimum word count                        \n",
    "num_workers = 4       # Number of threads to run in parallel\n",
    "context = 10          # Context window size                                                                                    \n",
    "downsampling = 1e-3   # Downsample setting for frequent words"
   ]
  },
  {
   "cell_type": "code",
   "execution_count": 14,
   "metadata": {
    "collapsed": false
   },
   "outputs": [
    {
     "name": "stdout",
     "output_type": "stream",
     "text": [
      "Creating average feature vecs for train reviews\n",
      "Review 0 of 37139\n",
      "Review 1000 of 37139\n",
      "Review 2000 of 37139\n",
      "Review 3000 of 37139\n",
      "Review 4000 of 37139\n",
      "Review 5000 of 37139\n",
      "Review 6000 of 37139\n",
      "Review 7000 of 37139\n",
      "Review 8000 of 37139\n",
      "Review 9000 of 37139\n"
     ]
    },
    {
     "name": "stderr",
     "output_type": "stream",
     "text": [
      "C:\\Users\\Peter martigny\\Anaconda3\\envs\\py35\\lib\\site-packages\\ipykernel\\__main__.py:24: RuntimeWarning: invalid value encountered in true_divide\n"
     ]
    },
    {
     "name": "stdout",
     "output_type": "stream",
     "text": [
      "Review 10000 of 37139\n",
      "Review 11000 of 37139\n",
      "Review 12000 of 37139\n",
      "Review 13000 of 37139\n",
      "Review 14000 of 37139\n",
      "Review 15000 of 37139\n",
      "Review 16000 of 37139\n",
      "Review 17000 of 37139\n",
      "Review 18000 of 37139\n",
      "Review 19000 of 37139\n",
      "Review 20000 of 37139\n",
      "Review 21000 of 37139\n",
      "Review 22000 of 37139\n",
      "Review 23000 of 37139\n",
      "Review 24000 of 37139\n",
      "Review 25000 of 37139\n",
      "Review 26000 of 37139\n",
      "Review 27000 of 37139\n",
      "Review 28000 of 37139\n",
      "Review 29000 of 37139\n",
      "Review 30000 of 37139\n",
      "Review 31000 of 37139\n",
      "Review 32000 of 37139\n",
      "Review 33000 of 37139\n",
      "Review 34000 of 37139\n",
      "Review 35000 of 37139\n",
      "Review 36000 of 37139\n",
      "Review 37000 of 37139\n",
      "30.753944158554077\n"
     ]
    }
   ],
   "source": [
    "start = time.time()\n",
    "\n",
    "# ****************************************************************\n",
    "# Calculate average feature vectors for training and testing sets,\n",
    "# using the functions we defined above. Notice that we now use stop word\n",
    "# removal.\n",
    "\n",
    "print(\"Creating average feature vecs for train reviews\")\n",
    "\n",
    "clean_train_reviews = []\n",
    "for review in data[\"review\"]:\n",
    "    clean_train_reviews.append( review_to_wordlist( review, \\\n",
    "        remove_stopwords=True ))\n",
    "\n",
    "trainDataVecs = getAvgFeatureVecs( clean_train_reviews, model, num_features )\n",
    "\n",
    "print(time.time() - start)"
   ]
  },
  {
   "cell_type": "code",
   "execution_count": 15,
   "metadata": {
    "collapsed": false
   },
   "outputs": [
    {
     "name": "stderr",
     "output_type": "stream",
     "text": [
      "C:\\Users\\Peter martigny\\Anaconda3\\envs\\py35\\lib\\site-packages\\sklearn\\cross_validation.py:44: DeprecationWarning: This module was deprecated in version 0.18 in favor of the model_selection module into which all the refactored classes and functions are moved. Also note that the interface of the new CV iterators are different from that of this module. This module will be removed in 0.20.\n",
      "  \"This module will be removed in 0.20.\", DeprecationWarning)\n"
     ]
    }
   ],
   "source": [
    "from sklearn.cross_validation import train_test_split"
   ]
  },
  {
   "cell_type": "code",
   "execution_count": null,
   "metadata": {
    "collapsed": false
   },
   "outputs": [],
   "source": []
  },
  {
   "cell_type": "code",
   "execution_count": 22,
   "metadata": {
    "collapsed": true
   },
   "outputs": [],
   "source": [
    "labels = data['rating']\n",
    "\n",
    "# Split the data into random train and test subsets. Here we use 30% of the data for testing\n",
    "data_train, data_test, labels_train, labels_test = train_test_split(trainDataVecs, \n",
    "                                                                    labels, test_size=0.3, \n",
    "                                                                    random_state=42)"
   ]
  },
  {
   "cell_type": "code",
   "execution_count": 24,
   "metadata": {
    "collapsed": false
   },
   "outputs": [
    {
     "data": {
      "text/plain": [
       "36492    5.0\n",
       "17649    5.0\n",
       "11010    5.0\n",
       "36707    4.0\n",
       "6552     4.0\n",
       "28385    5.0\n",
       "213      3.0\n",
       "7726     4.0\n",
       "32062    4.0\n",
       "19742    3.0\n",
       "22846    2.0\n",
       "15488    3.0\n",
       "20474    5.0\n",
       "12607    5.0\n",
       "23210    2.0\n",
       "6886     2.0\n",
       "25577    5.0\n",
       "14277    1.0\n",
       "33260    2.0\n",
       "20680    5.0\n",
       "20958    5.0\n",
       "25894    5.0\n",
       "15375    5.0\n",
       "4147     5.0\n",
       "36115    5.0\n",
       "15325    5.0\n",
       "33251    5.0\n",
       "2703     2.0\n",
       "28809    5.0\n",
       "28667    1.0\n",
       "        ... \n",
       "30740    2.0\n",
       "3890     2.0\n",
       "3556     2.0\n",
       "11394    4.0\n",
       "31551    5.0\n",
       "1267     5.0\n",
       "1899     3.0\n",
       "35773    5.0\n",
       "19118    5.0\n",
       "189      5.0\n",
       "2747     3.0\n",
       "18431    3.0\n",
       "18942    4.0\n",
       "25658    2.0\n",
       "27480    2.0\n",
       "6396     5.0\n",
       "28693    4.0\n",
       "19769    5.0\n",
       "17568    3.0\n",
       "5311     5.0\n",
       "2433     2.0\n",
       "769      2.0\n",
       "1685     4.0\n",
       "16023    5.0\n",
       "21962    5.0\n",
       "16850    5.0\n",
       "6265     1.0\n",
       "11284    5.0\n",
       "860      4.0\n",
       "15795    5.0\n",
       "Name: rating, dtype: float64"
      ]
     },
     "execution_count": 24,
     "metadata": {},
     "output_type": "execute_result"
    }
   ],
   "source": [
    "labels_train"
   ]
  },
  {
   "cell_type": "code",
   "execution_count": 25,
   "metadata": {
    "collapsed": false
   },
   "outputs": [
    {
     "ename": "ValueError",
     "evalue": "Input contains NaN, infinity or a value too large for dtype('float32').",
     "output_type": "error",
     "traceback": [
      "\u001b[0;31m---------------------------------------------------------------------------\u001b[0m",
      "\u001b[0;31mValueError\u001b[0m                                Traceback (most recent call last)",
      "\u001b[0;32m<ipython-input-25-850396a760c1>\u001b[0m in \u001b[0;36m<module>\u001b[0;34m()\u001b[0m\n\u001b[1;32m     12\u001b[0m \u001b[1;33m\u001b[0m\u001b[0m\n\u001b[1;32m     13\u001b[0m \u001b[1;31m# Fit the model to the training data\u001b[0m\u001b[1;33m\u001b[0m\u001b[1;33m\u001b[0m\u001b[0m\n\u001b[0;32m---> 14\u001b[0;31m \u001b[0my_score\u001b[0m \u001b[1;33m=\u001b[0m \u001b[0mclf\u001b[0m\u001b[1;33m.\u001b[0m\u001b[0mfit\u001b[0m\u001b[1;33m(\u001b[0m\u001b[0mdata_train\u001b[0m\u001b[1;33m,\u001b[0m \u001b[0mlabels_train\u001b[0m\u001b[1;33m)\u001b[0m\u001b[1;33m.\u001b[0m\u001b[0mpredict\u001b[0m\u001b[1;33m(\u001b[0m\u001b[0mdata_test\u001b[0m\u001b[1;33m)\u001b[0m\u001b[1;33m\u001b[0m\u001b[0m\n\u001b[0m\u001b[1;32m     15\u001b[0m \u001b[1;31m# Perform classific°ation of test data\u001b[0m\u001b[1;33m\u001b[0m\u001b[1;33m\u001b[0m\u001b[0m\n\u001b[1;32m     16\u001b[0m \u001b[0mlabels_predicted\u001b[0m \u001b[1;33m=\u001b[0m \u001b[0mclf\u001b[0m\u001b[1;33m.\u001b[0m\u001b[0mpredict\u001b[0m\u001b[1;33m(\u001b[0m\u001b[0mdata_test\u001b[0m\u001b[1;33m)\u001b[0m\u001b[1;33m\u001b[0m\u001b[0m\n",
      "\u001b[0;32mC:\\Users\\Peter martigny\\Anaconda3\\envs\\py35\\lib\\site-packages\\sklearn\\ensemble\\forest.py\u001b[0m in \u001b[0;36mfit\u001b[0;34m(self, X, y, sample_weight)\u001b[0m\n\u001b[1;32m    245\u001b[0m         \"\"\"\n\u001b[1;32m    246\u001b[0m         \u001b[1;31m# Validate or convert input data\u001b[0m\u001b[1;33m\u001b[0m\u001b[1;33m\u001b[0m\u001b[0m\n\u001b[0;32m--> 247\u001b[0;31m         \u001b[0mX\u001b[0m \u001b[1;33m=\u001b[0m \u001b[0mcheck_array\u001b[0m\u001b[1;33m(\u001b[0m\u001b[0mX\u001b[0m\u001b[1;33m,\u001b[0m \u001b[0maccept_sparse\u001b[0m\u001b[1;33m=\u001b[0m\u001b[1;34m\"csc\"\u001b[0m\u001b[1;33m,\u001b[0m \u001b[0mdtype\u001b[0m\u001b[1;33m=\u001b[0m\u001b[0mDTYPE\u001b[0m\u001b[1;33m)\u001b[0m\u001b[1;33m\u001b[0m\u001b[0m\n\u001b[0m\u001b[1;32m    248\u001b[0m         \u001b[0my\u001b[0m \u001b[1;33m=\u001b[0m \u001b[0mcheck_array\u001b[0m\u001b[1;33m(\u001b[0m\u001b[0my\u001b[0m\u001b[1;33m,\u001b[0m \u001b[0maccept_sparse\u001b[0m\u001b[1;33m=\u001b[0m\u001b[1;34m'csc'\u001b[0m\u001b[1;33m,\u001b[0m \u001b[0mensure_2d\u001b[0m\u001b[1;33m=\u001b[0m\u001b[1;32mFalse\u001b[0m\u001b[1;33m,\u001b[0m \u001b[0mdtype\u001b[0m\u001b[1;33m=\u001b[0m\u001b[1;32mNone\u001b[0m\u001b[1;33m)\u001b[0m\u001b[1;33m\u001b[0m\u001b[0m\n\u001b[1;32m    249\u001b[0m         \u001b[1;32mif\u001b[0m \u001b[0missparse\u001b[0m\u001b[1;33m(\u001b[0m\u001b[0mX\u001b[0m\u001b[1;33m)\u001b[0m\u001b[1;33m:\u001b[0m\u001b[1;33m\u001b[0m\u001b[0m\n",
      "\u001b[0;32mC:\\Users\\Peter martigny\\Anaconda3\\envs\\py35\\lib\\site-packages\\sklearn\\utils\\validation.py\u001b[0m in \u001b[0;36mcheck_array\u001b[0;34m(array, accept_sparse, dtype, order, copy, force_all_finite, ensure_2d, allow_nd, ensure_min_samples, ensure_min_features, warn_on_dtype, estimator)\u001b[0m\n\u001b[1;32m    405\u001b[0m                              % (array.ndim, estimator_name))\n\u001b[1;32m    406\u001b[0m         \u001b[1;32mif\u001b[0m \u001b[0mforce_all_finite\u001b[0m\u001b[1;33m:\u001b[0m\u001b[1;33m\u001b[0m\u001b[0m\n\u001b[0;32m--> 407\u001b[0;31m             \u001b[0m_assert_all_finite\u001b[0m\u001b[1;33m(\u001b[0m\u001b[0marray\u001b[0m\u001b[1;33m)\u001b[0m\u001b[1;33m\u001b[0m\u001b[0m\n\u001b[0m\u001b[1;32m    408\u001b[0m \u001b[1;33m\u001b[0m\u001b[0m\n\u001b[1;32m    409\u001b[0m     \u001b[0mshape_repr\u001b[0m \u001b[1;33m=\u001b[0m \u001b[0m_shape_repr\u001b[0m\u001b[1;33m(\u001b[0m\u001b[0marray\u001b[0m\u001b[1;33m.\u001b[0m\u001b[0mshape\u001b[0m\u001b[1;33m)\u001b[0m\u001b[1;33m\u001b[0m\u001b[0m\n",
      "\u001b[0;32mC:\\Users\\Peter martigny\\Anaconda3\\envs\\py35\\lib\\site-packages\\sklearn\\utils\\validation.py\u001b[0m in \u001b[0;36m_assert_all_finite\u001b[0;34m(X)\u001b[0m\n\u001b[1;32m     56\u001b[0m             and not np.isfinite(X).all()):\n\u001b[1;32m     57\u001b[0m         raise ValueError(\"Input contains NaN, infinity\"\n\u001b[0;32m---> 58\u001b[0;31m                          \" or a value too large for %r.\" % X.dtype)\n\u001b[0m\u001b[1;32m     59\u001b[0m \u001b[1;33m\u001b[0m\u001b[0m\n\u001b[1;32m     60\u001b[0m \u001b[1;33m\u001b[0m\u001b[0m\n",
      "\u001b[0;31mValueError\u001b[0m: Input contains NaN, infinity or a value too large for dtype('float32')."
     ]
    }
   ],
   "source": [
    "from sklearn.linear_model import LogisticRegression\n",
    "from sklearn.ensemble import RandomForestClassifier\n",
    "from sklearn import svm\n",
    "from sklearn.linear_model import LinearRegression\n",
    "import matplotlib.pyplot as plt\n",
    "%matplotlib inline\n",
    "\n",
    "start = time.time()\n",
    "\n",
    "# Initialize the model\n",
    "clf = RandomForestClassifier(n_estimators = 100)\n",
    "\n",
    "# Fit the model to the training data\n",
    "y_score = clf.fit(data_train, labels_train).predict(data_test)\n",
    "# Perform classific°ation of test data\n",
    "labels_predicted = clf.predict(data_test)\n",
    "\n",
    "print(time.time() - start)"
   ]
  },
  {
   "cell_type": "code",
   "execution_count": 31,
   "metadata": {
    "collapsed": false
   },
   "outputs": [
    {
     "data": {
      "text/plain": [
       "0.0053083048044005078"
      ]
     },
     "execution_count": 31,
     "metadata": {},
     "output_type": "execute_result"
    }
   ],
   "source": [
    "np.isnan(data_train).sum() / (data_train.shape[0] * data_train.shape[1])"
   ]
  },
  {
   "cell_type": "code",
   "execution_count": 29,
   "metadata": {
    "collapsed": false
   },
   "outputs": [
    {
     "data": {
      "text/plain": [
       "7799100"
      ]
     },
     "execution_count": 29,
     "metadata": {},
     "output_type": "execute_result"
    }
   ],
   "source": [
    "data_train.shape[0] * data_train.shape[1]"
   ]
  },
  {
   "cell_type": "code",
   "execution_count": 45,
   "metadata": {
    "collapsed": false
   },
   "outputs": [],
   "source": [
    "X = pd.concat((pd.DataFrame(trainDataVecs), data['rating']), axis=1).dropna()"
   ]
  },
  {
   "cell_type": "code",
   "execution_count": 50,
   "metadata": {
    "collapsed": false
   },
   "outputs": [],
   "source": [
    "train_data = X.ix[:, :-1]\n",
    "train_label = X.ix[:, -1]"
   ]
  },
  {
   "cell_type": "code",
   "execution_count": 51,
   "metadata": {
    "collapsed": true
   },
   "outputs": [],
   "source": [
    "# Split the data into random train and test subsets. Here we use 30% of the data for testing\n",
    "data_train, data_test, labels_train, labels_test = train_test_split(train_data, \n",
    "                                                                    train_label, test_size=0.3, \n",
    "                                                                    random_state=42)"
   ]
  },
  {
   "cell_type": "code",
   "execution_count": 52,
   "metadata": {
    "collapsed": false
   },
   "outputs": [
    {
     "name": "stdout",
     "output_type": "stream",
     "text": [
      "7.399346828460693\n"
     ]
    }
   ],
   "source": [
    "start = time.time()\n",
    "\n",
    "# Initialize the model\n",
    "clf = LogisticRegression()\n",
    "\n",
    "# Fit the model to the training data\n",
    "y_score = clf.fit(data_train, labels_train).predict(data_test)\n",
    "# Perform classific°ation of test data\n",
    "labels_predicted = clf.predict(data_test)\n",
    "\n",
    "print(time.time() - start)"
   ]
  },
  {
   "cell_type": "code",
   "execution_count": 53,
   "metadata": {
    "collapsed": false
   },
   "outputs": [
    {
     "data": {
      "text/plain": [
       "0.45737483085250336"
      ]
     },
     "execution_count": 53,
     "metadata": {},
     "output_type": "execute_result"
    }
   ],
   "source": [
    "np.sum(labels_predicted == labels_test) / len(labels_test)"
   ]
  },
  {
   "cell_type": "code",
   "execution_count": 54,
   "metadata": {
    "collapsed": false
   },
   "outputs": [
    {
     "data": {
      "image/png": "[encoded data removed]",
      "text/plain": [
       "<matplotlib.figure.Figure at 0x26de6030da0>"
      ]
     },
     "metadata": {},
     "output_type": "display_data"
    }
   ],
   "source": [
    "plt.hist(labels_predicted, color = 'b')\n",
    "plt.show()"
   ]
  },
  {
   "cell_type": "code",
   "execution_count": 55,
   "metadata": {
    "collapsed": false
   },
   "outputs": [
    {
     "name": "stdout",
     "output_type": "stream",
     "text": [
      "35.55838060379028\n"
     ]
    }
   ],
   "source": [
    "start = time.time()\n",
    "\n",
    "# Initialize the model\n",
    "clf = RandomForestClassifier(n_estimators=50)\n",
    "\n",
    "# Fit the model to the training data\n",
    "y_score = clf.fit(data_train, labels_train).predict(data_test)\n",
    "# Perform classific°ation of test data\n",
    "labels_predicted = clf.predict(data_test)\n",
    "\n",
    "print(time.time() - start)"
   ]
  },
  {
   "cell_type": "code",
   "execution_count": 56,
   "metadata": {
    "collapsed": false
   },
   "outputs": [
    {
     "data": {
      "text/plain": [
       "0.43085250338294995"
      ]
     },
     "execution_count": 56,
     "metadata": {},
     "output_type": "execute_result"
    }
   ],
   "source": [
    "np.sum(labels_predicted == labels_test) / len(labels_test)"
   ]
  },
  {
   "cell_type": "code",
   "execution_count": 57,
   "metadata": {
    "collapsed": false
   },
   "outputs": [
    {
     "data": {
      "image/png": "[encoded data removed]",
      "text/plain": [
       "<matplotlib.figure.Figure at 0x26d87f0fef0>"
      ]
     },
     "metadata": {},
     "output_type": "display_data"
    }
   ],
   "source": [
    "plt.hist(labels_predicted, color = 'b')\n",
    "plt.show()"
   ]
  },
  {
   "cell_type": "markdown",
   "metadata": {},
   "source": [
    "#### Let's try with binary sentiments"
   ]
  },
  {
   "cell_type": "code",
   "execution_count": 75,
   "metadata": {
    "collapsed": true
   },
   "outputs": [],
   "source": [
    "def sentiment(x):\n",
    "    \n",
    "    if x < 5:\n",
    "        res = 0\n",
    "    else:\n",
    "        res = 1\n",
    "        \n",
    "    return res"
   ]
  },
  {
   "cell_type": "code",
   "execution_count": 76,
   "metadata": {
    "collapsed": false
   },
   "outputs": [],
   "source": [
    "a = list(train_label)\n",
    "a = [sentiment(x) for x in a]"
   ]
  },
  {
   "cell_type": "code",
   "execution_count": 86,
   "metadata": {
    "collapsed": false
   },
   "outputs": [],
   "source": [
    "# Split the data into random train and test subsets. Here we use 30% of the data for testing\n",
    "data_train, data_test, labels_train, labels_test = train_test_split(train_data, \n",
    "                                                                    a, test_size=0.3)"
   ]
  },
  {
   "cell_type": "code",
   "execution_count": 87,
   "metadata": {
    "collapsed": false
   },
   "outputs": [
    {
     "name": "stdout",
     "output_type": "stream",
     "text": [
      "9.984652757644653\n",
      "The Accuracy on test set is:  0.548398737032\n"
     ]
    }
   ],
   "source": [
    "start = time.time()\n",
    "\n",
    "# Initialize the model\n",
    "clf = LogisticRegression(C = 100)\n",
    "\n",
    "# Fit the model to the training data\n",
    "y_score = clf.fit(data_train, labels_train).predict(data_test)\n",
    "# Perform classific°ation of test data\n",
    "labels_predicted = clf.predict(data_test)\n",
    "\n",
    "print(time.time() - start)\n",
    "\n",
    "print('The Accuracy on test set is: ', np.sum(labels_predicted == labels_test) / len(labels_test))"
   ]
  },
  {
   "cell_type": "code",
   "execution_count": 88,
   "metadata": {
    "collapsed": false
   },
   "outputs": [
    {
     "data": {
      "image/png": "[encoded data removed]",
      "text/plain": [
       "<matplotlib.figure.Figure at 0x26d89f893c8>"
      ]
     },
     "metadata": {},
     "output_type": "display_data"
    }
   ],
   "source": [
    "plt.hist(labels_predicted, color = 'b')\n",
    "plt.show()"
   ]
  },
  {
   "cell_type": "code",
   "execution_count": 81,
   "metadata": {
    "collapsed": false
   },
   "outputs": [
    {
     "data": {
      "image/png": "[encoded data removed]",
      "text/plain": [
       "<matplotlib.figure.Figure at 0x26d880899b0>"
      ]
     },
     "metadata": {},
     "output_type": "display_data"
    }
   ],
   "source": [
    "plt.hist(labels_test, color = 'b')\n",
    "plt.show()"
   ]
  },
  {
   "cell_type": "code",
   "execution_count": 91,
   "metadata": {
    "collapsed": false
   },
   "outputs": [
    {
     "name": "stdout",
     "output_type": "stream",
     "text": [
      "61.90416932106018\n",
      "The Accuracy on test set is:  0.537392873252\n"
     ]
    }
   ],
   "source": [
    "start = time.time()\n",
    "\n",
    "# Initialize the model\n",
    "clf = RandomForestClassifier(n_estimators=100)\n",
    "\n",
    "# Fit the model to the training data\n",
    "y_score = clf.fit(data_train, labels_train).predict(data_test)\n",
    "# Perform classific°ation of test data\n",
    "labels_predicted = clf.predict(data_test)\n",
    "\n",
    "print(time.time() - start)\n",
    "\n",
    "print('The Accuracy on test set is: ', np.sum(labels_predicted == labels_test) / len(labels_test))"
   ]
  },
  {
   "cell_type": "markdown",
   "metadata": {},
   "source": [
    "## Clustering"
   ]
  },
  {
   "cell_type": "code",
   "execution_count": 94,
   "metadata": {
    "collapsed": false
   },
   "outputs": [
    {
     "name": "stdout",
     "output_type": "stream",
     "text": [
      "Time taken for K Means clustering:  5.91233229637146 seconds.\n"
     ]
    }
   ],
   "source": [
    "from sklearn.cluster import KMeans\n",
    "import time\n",
    "\n",
    "start = time.time() # Start time\n",
    "\n",
    "# Set \"k\" (num_clusters) to be 1/5th of the vocabulary size, or an\n",
    "# average of 5 words per cluster\n",
    "word_vectors = model.syn0\n",
    "num_clusters = int(word_vectors.shape[0] / 5)\n",
    "\n",
    "# Initalize a k-means object and use it to extract centroids\n",
    "kmeans_clustering = KMeans( n_clusters = num_clusters )\n",
    "idx = kmeans_clustering.fit_predict( word_vectors )\n",
    "\n",
    "# Get the end time and print how long the process took\n",
    "end = time.time()\n",
    "elapsed = end - start\n",
    "print(\"Time taken for K Means clustering: \", elapsed, \"seconds.\")"
   ]
  },
  {
   "cell_type": "code",
   "execution_count": 96,
   "metadata": {
    "collapsed": false
   },
   "outputs": [],
   "source": [
    "# Create a Word / Index dictionary, mapping each vocabulary word to\n",
    "# a cluster number                                                                                            \n",
    "word_centroid_map = dict(zip( model.index2word, idx ))"
   ]
  },
  {
   "cell_type": "code",
   "execution_count": 111,
   "metadata": {
    "collapsed": false
   },
   "outputs": [
    {
     "name": "stdout",
     "output_type": "stream",
     "text": [
      "\n",
      "Cluster 0\n",
      "['watches', 'watched', 'imagines', 'imagined', 'sees', 'behind', 'upon', 'perfect', 'imagining', 'believes', 'thinks', 'watching']\n",
      "\n",
      "Cluster 1\n",
      "['unusual', 'clever', 'creative', 'approach', 'tense', 'descriptive', 'fascinating', 'original', 'unique']\n",
      "\n",
      "Cluster 2\n",
      "['normally', 'm', 'am', 'review']\n",
      "\n",
      "Cluster 3\n",
      "['lose', 'drag', 'move']\n",
      "\n",
      "Cluster 4\n",
      "['self', 'broken', 'emotionally', 'role', 'destructive', 'troubled']\n",
      "\n",
      "Cluster 5\n",
      "['over', 'ahead', 'again']\n",
      "\n",
      "Cluster 6\n",
      "['kinda', 'overall', 'nonetheless', 'slightly', 'extremely', 'generally', 'somewhat', 'otherwise']\n",
      "\n",
      "Cluster 7\n",
      "['past', 'later', 'home', 'room', 'work', 'used', 'old', 'gin', 'house', 'doors']\n",
      "\n",
      "Cluster 8\n",
      "['leads', 'led']\n",
      "\n",
      "Cluster 9\n",
      "['female', 'narratives', 'st', 'alternating', 'three', 'separate', 'voices', 'among', 'voice', 'narrators']\n",
      "\n",
      "Cluster 10\n",
      "['now', 'sorry', 'only', 'saying']\n",
      "\n",
      "Cluster 11\n",
      "['gets', 'got', 'was', 'became', 'began', 'fell', 'found', 'went']\n",
      "\n",
      "Cluster 12\n",
      "['murderer', 'suspected', 'early', 'villain', 'culprit', 'guilty', 'killer']\n",
      "\n",
      "Cluster 13\n",
      "['ll', 'will', 'must']\n",
      "\n",
      "Cluster 14\n",
      "['comparing', 'similar', 'compare', 'compared', 'similarities', 'unlike', 'comparison', 'comparisons']\n",
      "\n",
      "Cluster 15\n",
      "['women', 'both', 'ones', 'men', 'protagonists', 'common']\n",
      "\n",
      "Cluster 16\n",
      "['developing', 'lacked', 'lacking', 'tone']\n",
      "\n",
      "Cluster 17\n",
      "['edge', 'seat', 'toes']\n",
      "\n",
      "Cluster 18\n",
      "['despicable', 'unlikable', 'likeable', 'unlikeable', 'flawed', 'deeply', 'horrible', 'unsympathetic', 'sympathetic']\n",
      "\n",
      "Cluster 19\n",
      "['addictive', 'riveting', 'mediocre', 'refreshing', 'brilliant', 'superb', 'fine', 'terrific', 'solid']\n",
      "\n",
      "Cluster 20\n",
      "['number', 'based', 'sellers', 'bestseller', 'seller', 'lists', 'list', 'top']\n",
      "\n",
      "Cluster 21\n",
      "['back', 'chapter', 'speaking', 'sometimes', 'follow', 'titles', 'date', 'dates']\n",
      "\n",
      "Cluster 22\n",
      "['paid', 'kindle', 'sample', 'amazon', 'cover', 'library', 'copy', 'version']\n",
      "\n",
      "Cluster 23\n",
      "['leading', 'fit', 'came', 'loose', 'tied', 'ends']\n",
      "\n",
      "Cluster 24\n",
      "['going', 'happening', 'happens', 'exactly', 'happened']\n",
      "\n",
      "Cluster 25\n",
      "['regret', 'bother', 'miss']\n",
      "\n",
      "Cluster 26\n",
      "['name', 'jess', 'dead', 'suddenly', 'calls', 'loving', 'obsessed', 'jason', 'whom', 'murdered', 'kissing', 'disappeared', 'disappearance', 'named', 'disappears', 'beautiful', 'missing', 'victim', 'police']\n",
      "\n",
      "Cluster 27\n",
      "['gillian', 'hitchcock', 'gone', 'lifetime', 'reminiscent', 'rear', 'flynn', 'alfred']\n",
      "\n",
      "Cluster 28\n",
      "['crime', 'solving', 'drama', 'betrayal', 'murder', 'tale']\n",
      "\n",
      "Cluster 29\n",
      "['her', 'problem', 'drinks', 'roommate', 'she', 'lost', 'drunken', 'drinking', 'black', 'control', 'blackouts', 'feeling', 'rachel', 'drink', 'blackout']\n"
     ]
    }
   ],
   "source": [
    "# For the first 10 clusters\n",
    "for cluster in range(0,30):\n",
    "    #\n",
    "    # Print the cluster number  \n",
    "    print(\"\\nCluster %d\" % cluster)\n",
    "    #\n",
    "    # Find all of the words for that cluster number, and print them out\n",
    "    words = []\n",
    "    for i in range(0,len(word_centroid_map.values())):\n",
    "        if( list(word_centroid_map.values())[i] == cluster ):\n",
    "            words.append(list(word_centroid_map.keys())[i])\n",
    "    print(words)"
   ]
  },
  {
   "cell_type": "markdown",
   "metadata": {},
   "source": [
    "#### Bag of centroids"
   ]
  },
  {
   "cell_type": "code",
   "execution_count": 112,
   "metadata": {
    "collapsed": false
   },
   "outputs": [],
   "source": [
    "def create_bag_of_centroids( wordlist, word_centroid_map ):\n",
    "    #\n",
    "    # The number of clusters is equal to the highest cluster index\n",
    "    # in the word / centroid map\n",
    "    num_centroids = max( word_centroid_map.values() ) + 1\n",
    "    #\n",
    "    # Pre-allocate the bag of centroids vector (for speed)\n",
    "    bag_of_centroids = np.zeros( num_centroids, dtype=\"float32\" )\n",
    "    #\n",
    "    # Loop over the words in the review. If the word is in the vocabulary,\n",
    "    # find which cluster it belongs to, and increment that cluster count \n",
    "    # by one\n",
    "    for word in wordlist:\n",
    "        if word in word_centroid_map:\n",
    "            index = word_centroid_map[word]\n",
    "            bag_of_centroids[index] += 1\n",
    "    #\n",
    "    # Return the \"bag of centroids\"\n",
    "    return bag_of_centroids"
   ]
  },
  {
   "cell_type": "code",
   "execution_count": 117,
   "metadata": {
    "collapsed": false
   },
   "outputs": [],
   "source": [
    "# Pre-allocate an array for the training set bags of centroids (for speed)\n",
    "train_centroids = np.zeros( (data[\"review\"].size, num_clusters), \\\n",
    "    dtype=\"float32\" )\n",
    "\n",
    "# Transform the training set reviews into bags of centroids\n",
    "counter = 0\n",
    "for review in clean_train_reviews:\n",
    "    train_centroids[counter] = create_bag_of_centroids( review, \\\n",
    "        word_centroid_map )\n",
    "    counter += 1"
   ]
  },
  {
   "cell_type": "code",
   "execution_count": 124,
   "metadata": {
    "collapsed": false
   },
   "outputs": [
    {
     "data": {
      "text/plain": [
       "0"
      ]
     },
     "execution_count": 124,
     "metadata": {},
     "output_type": "execute_result"
    }
   ],
   "source": [
    "np.isnan(train_centroids).sum() # There are no missing values"
   ]
  },
  {
   "cell_type": "code",
   "execution_count": 128,
   "metadata": {
    "collapsed": false
   },
   "outputs": [
    {
     "name": "stdout",
     "output_type": "stream",
     "text": [
      "1.50099515914917\n",
      "The Accuracy on test set is:  0.457996768982\n"
     ]
    }
   ],
   "source": [
    "# Split the data into random train and test subsets. Here we use 30% of the data for testing\n",
    "data_train, data_test, labels_train, labels_test = train_test_split(train_centroids, \n",
    "                                                                    data['rating'], test_size=0.3)\n",
    "\n",
    "start = time.time()\n",
    "\n",
    "# Initialize the model\n",
    "clf = LogisticRegression()\n",
    "\n",
    "# Fit the model to the training data\n",
    "y_score = clf.fit(data_train, labels_train).predict(data_test)\n",
    "# Perform classific°ation of test data\n",
    "labels_predicted = clf.predict(data_test)\n",
    "\n",
    "print(time.time() - start)\n",
    "\n",
    "print('The Accuracy on test set is: ', np.sum(labels_predicted == labels_test) / len(labels_test))"
   ]
  },
  {
   "cell_type": "code",
   "execution_count": 130,
   "metadata": {
    "collapsed": false
   },
   "outputs": [
    {
     "name": "stdout",
     "output_type": "stream",
     "text": [
      "22.81406307220459\n",
      "The Accuracy on test set is:  0.425417339795\n"
     ]
    }
   ],
   "source": [
    "# Split the data into random train and test subsets. Here we use 30% of the data for testing\n",
    "data_train, data_test, labels_train, labels_test = train_test_split(train_centroids, \n",
    "                                                                    data['rating'], test_size=0.3)\n",
    "\n",
    "start = time.time()\n",
    "\n",
    "# Initialize the model\n",
    "clf = RandomForestClassifier(n_estimators=100)\n",
    "\n",
    "# Fit the model to the training data\n",
    "y_score = clf.fit(data_train, labels_train).predict(data_test)\n",
    "# Perform classific°ation of test data\n",
    "labels_predicted = clf.predict(data_test)\n",
    "\n",
    "print(time.time() - start)\n",
    "\n",
    "print('The Accuracy on test set is: ', np.sum(labels_predicted == labels_test) / len(labels_test))"
   ]
  },
  {
   "cell_type": "code",
   "execution_count": null,
   "metadata": {
    "collapsed": true
   },
   "outputs": [],
   "source": []
  }
 ],
 "metadata": {
  "kernelspec": {
   "display_name": "Python [conda env:py35]",
   "language": "python",
   "name": "conda-env-py35-py"
  },
  "language_info": {
   "codemirror_mode": {
    "name": "ipython",
    "version": 3
   },
   "file_extension": ".py",
   "mimetype": "text/x-python",
   "name": "python",
   "nbconvert_exporter": "python",
   "pygments_lexer": "ipython3",
   "version": "3.5.2"
  }
 },
 "nbformat": 4,
 "nbformat_minor": 1
}
