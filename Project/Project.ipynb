{
 "cells": [
  {
   "cell_type": "code",
   "execution_count": 1,
   "metadata": {
    "collapsed": true
   },
   "outputs": [],
   "source": [
    "import pandas as pd\n",
    "from bs4 import BeautifulSoup\n",
    "import time\n",
    "\n",
    "import nltk\n",
    "from nltk.stem.porter import *\n",
    "import string\n",
    "from nltk.tokenize import TweetTokenizer\n",
    "token = TweetTokenizer()\n",
    "stemmer = PorterStemmer() "
   ]
  },
  {
   "cell_type": "code",
   "execution_count": 2,
   "metadata": {
    "collapsed": false
   },
   "outputs": [],
   "source": [
    "# Take one of the books, with approx uniform distribution for its ratings\n",
    "data = pd.read_csv('Paula_Hawkins-The-Girl-On-The-Train.csv', sep = '\\t', header = None)\n",
    "\n",
    "# Rename columns\n",
    "data.columns = ['rating', 'tail', 'title', 'review']\n",
    "\n",
    "# Remove the html tags\n",
    "data['review'] = data['review'].apply(lambda x: BeautifulSoup(x, \"html.parser\").get_text())"
   ]
  },
  {
   "cell_type": "code",
   "execution_count": 3,
   "metadata": {
    "collapsed": false,
    "scrolled": true
   },
   "outputs": [
    {
     "data": {
      "text/html": [
       "<div>\n",
       "<table border=\"1\" class=\"dataframe\">\n",
       "  <thead>\n",
       "    <tr style=\"text-align: right;\">\n",
       "      <th></th>\n",
       "      <th>rating</th>\n",
       "      <th>tail</th>\n",
       "      <th>title</th>\n",
       "      <th>review</th>\n",
       "    </tr>\n",
       "  </thead>\n",
       "  <tbody>\n",
       "    <tr>\n",
       "      <th>0</th>\n",
       "      <td>5.0</td>\n",
       "      <td>/gp/customer-reviews/R2QL7LO8IQZ7V2?ASIN=15946...</td>\n",
       "      <td>Best Hitchcock style mystery of voyeuristic ob...</td>\n",
       "      <td>Rachel is a woman who considers herself worthl...</td>\n",
       "    </tr>\n",
       "    <tr>\n",
       "      <th>1</th>\n",
       "      <td>2.0</td>\n",
       "      <td>/gp/customer-reviews/R1UP4LQV7KT04M?ASIN=15946...</td>\n",
       "      <td>ALCOHOLIC AMNESIA</td>\n",
       "      <td>THE GIRL ON THE TRAIN is a dark, haunting and ...</td>\n",
       "    </tr>\n",
       "    <tr>\n",
       "      <th>2</th>\n",
       "      <td>5.0</td>\n",
       "      <td>/gp/customer-reviews/R2UWX7IZYY45DQ?ASIN=15946...</td>\n",
       "      <td>The Gillian Flynn comparisons are utterly accu...</td>\n",
       "      <td>This was a premise to which I couldn't say no....</td>\n",
       "    </tr>\n",
       "    <tr>\n",
       "      <th>3</th>\n",
       "      <td>4.0</td>\n",
       "      <td>/gp/customer-reviews/R376RH2ZC94RRY?ASIN=15946...</td>\n",
       "      <td>This is a Must Read.</td>\n",
       "      <td>Edgy, heart-wrenching, at times oddly funny.  ...</td>\n",
       "    </tr>\n",
       "    <tr>\n",
       "      <th>4</th>\n",
       "      <td>2.0</td>\n",
       "      <td>/gp/customer-reviews/R4R7KVVCO9YT5?ASIN=159463...</td>\n",
       "      <td>It gets thin and annoying by the end</td>\n",
       "      <td>After reading buzzy previews for a couple of m...</td>\n",
       "    </tr>\n",
       "  </tbody>\n",
       "</table>\n",
       "</div>"
      ],
      "text/plain": [
       "   rating                                               tail  \\\n",
       "0     5.0  /gp/customer-reviews/R2QL7LO8IQZ7V2?ASIN=15946...   \n",
       "1     2.0  /gp/customer-reviews/R1UP4LQV7KT04M?ASIN=15946...   \n",
       "2     5.0  /gp/customer-reviews/R2UWX7IZYY45DQ?ASIN=15946...   \n",
       "3     4.0  /gp/customer-reviews/R376RH2ZC94RRY?ASIN=15946...   \n",
       "4     2.0  /gp/customer-reviews/R4R7KVVCO9YT5?ASIN=159463...   \n",
       "\n",
       "                                               title  \\\n",
       "0  Best Hitchcock style mystery of voyeuristic ob...   \n",
       "1                                  ALCOHOLIC AMNESIA   \n",
       "2  The Gillian Flynn comparisons are utterly accu...   \n",
       "3                               This is a Must Read.   \n",
       "4               It gets thin and annoying by the end   \n",
       "\n",
       "                                              review  \n",
       "0  Rachel is a woman who considers herself worthl...  \n",
       "1  THE GIRL ON THE TRAIN is a dark, haunting and ...  \n",
       "2  This was a premise to which I couldn't say no....  \n",
       "3  Edgy, heart-wrenching, at times oddly funny.  ...  \n",
       "4  After reading buzzy previews for a couple of m...  "
      ]
     },
     "execution_count": 3,
     "metadata": {},
     "output_type": "execute_result"
    }
   ],
   "source": [
    "data.head()"
   ]
  },
  {
   "cell_type": "code",
   "execution_count": 4,
   "metadata": {
    "collapsed": false
   },
   "outputs": [
    {
     "name": "stdout",
     "output_type": "stream",
     "text": [
      "There are  37139  reviews in this dataset\n"
     ]
    }
   ],
   "source": [
    "print('There are ', data.shape[0], ' reviews in this dataset')"
   ]
  },
  {
   "cell_type": "code",
   "execution_count": 5,
   "metadata": {
    "collapsed": true
   },
   "outputs": [],
   "source": [
    "# We will remove the words that are used too often\n",
    "stopwords = ['i', 'me', 'my', 'myself', 'we', 'our', 'ours', 'ourselves', 'you', 'your', 'yours',\n",
    "                 'yourself', 'yourselves', 'he', 'him', 'his', 'himself', 'she', 'her', 'hers',\n",
    "                 'herself', 'it', 'its', 'itself', 'they', 'them', 'their', 'theirs', 'themselves',\n",
    "                 'what', 'which', 'who', 'whom', 'this', 'that', 'these', 'those', 'am', 'is', 'are',\n",
    "                 'was', 'were', 'be', 'been', 'being', 'have', 'has', 'had', 'having', 'do', 'does',\n",
    "                 'did', 'doing', 'a', 'an', 'the', 'and', 'but', 'if', 'or', 'because', 'as', 'until',\n",
    "                 'while', 'of', 'at', 'by', 'for', 'with', 'about', 'against', 'between', 'into',\n",
    "                 'through', 'during', 'before', 'after', 'above', 'below', 'to', 'from', 'up', 'down',\n",
    "                 'in', 'out', 'on', 'off', 'over', 'under', 'again', 'further', 'then', 'once', 'here',\n",
    "                 'there', 'when', 'where', 'why', 'how', 'all', 'any', 'both', 'each', 'few', 'more',\n",
    "                 'most', 'other', 'some', 'such', 'no', 'nor', 'not', 'only', 'own', 'same', 'so',\n",
    "                 'than', 'too', 'very', 's', 't', 'can', 'will', 'just', 'don', 'should', 'now']"
   ]
  },
  {
   "cell_type": "code",
   "execution_count": 19,
   "metadata": {
    "collapsed": false
   },
   "outputs": [
    {
     "data": {
      "text/plain": [
       "{'!',\n",
       " '\"',\n",
       " '#',\n",
       " '$',\n",
       " '%',\n",
       " '&',\n",
       " \"'\",\n",
       " '(',\n",
       " ')',\n",
       " '*',\n",
       " '+',\n",
       " ',',\n",
       " '-',\n",
       " '.',\n",
       " '/',\n",
       " ':',\n",
       " ';',\n",
       " '<',\n",
       " '=',\n",
       " '>',\n",
       " '?',\n",
       " '@',\n",
       " '[',\n",
       " '\\\\',\n",
       " ']',\n",
       " '^',\n",
       " '_',\n",
       " '`',\n",
       " '{',\n",
       " '|',\n",
       " '}',\n",
       " '~'}"
      ]
     },
     "execution_count": 19,
     "metadata": {},
     "output_type": "execute_result"
    }
   ],
   "source": [
    "# We will later emove punctuation\n",
    "punctuation = set(string.punctuation)\n",
    "punctuation"
   ]
  },
  {
   "cell_type": "code",
   "execution_count": 7,
   "metadata": {
    "collapsed": false
   },
   "outputs": [],
   "source": [
    "# Define a function to tokenize the text\n",
    "def process(x):\n",
    "    \n",
    "    # Take lowercases & tokenize the text\n",
    "    doc = token.tokenize(''.join([w for w in x.lower() if w not in punctuation]))\n",
    "    \n",
    "    # Remove stopwords\n",
    "    doc = [w for w in doc if w not in stopwords]\n",
    "    \n",
    "#     try:\n",
    "    \n",
    "#         # Carry the stemming part\n",
    "#         doc = [stemmer.stem(w) for w in doc]\n",
    "        \n",
    "#     except Exception as e:\n",
    "        \n",
    "#         print(x)\n",
    "    \n",
    "    # Transformù to one string\n",
    "    doc = ' '.join(w for w in doc)\n",
    "    \n",
    "    return doc"
   ]
  },
  {
   "cell_type": "code",
   "execution_count": 8,
   "metadata": {
    "collapsed": false
   },
   "outputs": [],
   "source": [
    "# Create a column with the tokenized reviews\n",
    "data['processed'] = data['review'].apply(lambda x: process(x))"
   ]
  },
  {
   "cell_type": "code",
   "execution_count": 9,
   "metadata": {
    "collapsed": false
   },
   "outputs": [],
   "source": [
    "# data[data['review'] == \"Don't know how I managed to finish this book, but I felt as though I'd been released from prison when I finally was able to put it down forever. Tedious, humorless, the characters are pretty much interchangeable - they all sound alike. The book has been called fast-paced, but in comparison to what? The OED? Kept waiting to be surprised, never was (unless I count being surprised that I was NOT surprised.)\"]"
   ]
  },
  {
   "cell_type": "code",
   "execution_count": 10,
   "metadata": {
    "collapsed": false
   },
   "outputs": [],
   "source": [
    "# Remove the problematic review\n",
    "# data = data.drop(data.index[[621]])\n",
    "\n",
    "data = data.reset_index()\n",
    "data = data.ix[:, 1:]"
   ]
  },
  {
   "cell_type": "markdown",
   "metadata": {},
   "source": [
    "## TF-IDF preprocessing"
   ]
  },
  {
   "cell_type": "markdown",
   "metadata": {},
   "source": [
    "#### Here, we will build features for documents, representing each words using its frequencies along documents (TF) and also its rarity (IDF)"
   ]
  },
  {
   "cell_type": "code",
   "execution_count": 12,
   "metadata": {
    "collapsed": true
   },
   "outputs": [],
   "source": [
    "from sklearn.feature_extraction.text import TfidfVectorizer\n",
    "import numpy as np"
   ]
  },
  {
   "cell_type": "code",
   "execution_count": 13,
   "metadata": {
    "collapsed": true
   },
   "outputs": [],
   "source": [
    "# Construct the Document−Term TF−IDF matrix\n",
    "m = TfidfVectorizer()\n",
    "tfidf_matrix = m.fit_transform(data['processed'])\n",
    "tfidf_matrix = tfidf_matrix.toarray() # convert to numpy array"
   ]
  },
  {
   "cell_type": "code",
   "execution_count": 14,
   "metadata": {
    "collapsed": false
   },
   "outputs": [
    {
     "data": {
      "text/plain": [
       "array([[ 0.,  0.,  0., ...,  0.,  0.,  0.],\n",
       "       [ 0.,  0.,  0., ...,  0.,  0.,  0.],\n",
       "       [ 0.,  0.,  0., ...,  0.,  0.,  0.],\n",
       "       ..., \n",
       "       [ 0.,  0.,  0., ...,  0.,  0.,  0.],\n",
       "       [ 0.,  0.,  0., ...,  0.,  0.,  0.],\n",
       "       [ 0.,  0.,  0., ...,  0.,  0.,  0.]])"
      ]
     },
     "execution_count": 14,
     "metadata": {},
     "output_type": "execute_result"
    }
   ],
   "source": [
    "tfidf_matrix"
   ]
  },
  {
   "cell_type": "code",
   "execution_count": 15,
   "metadata": {
    "collapsed": false
   },
   "outputs": [
    {
     "name": "stdout",
     "output_type": "stream",
     "text": [
      "The matrix is of shape (37139, 22985) and its sparsity is 0.000607302904761664\n"
     ]
    }
   ],
   "source": [
    "# Examine the size and the sparsity of the tfidf_matrix\n",
    "size = tfidf_matrix.shape\n",
    "sparsity = np.count_nonzero(tfidf_matrix) / tfidf_matrix.size\n",
    "\n",
    "print('The matrix is of shape '+str(size)+' and its sparsity is '+str(sparsity))"
   ]
  },
  {
   "cell_type": "code",
   "execution_count": 18,
   "metadata": {
    "collapsed": false
   },
   "outputs": [
    {
     "name": "stdout",
     "output_type": "stream",
     "text": [
      "445.9133143424988\n"
     ]
    }
   ],
   "source": [
    "from sklearn.decomposition import PCA\n",
    "\n",
    "start = time.time()\n",
    "\n",
    "pca = PCA(n_components=50)\n",
    "pca.fit(tfidf_matrix)\n",
    "tfidf_matrix = pca.fit_transform(tfidf_matrix)\n",
    "\n",
    "print(time.time() - start)"
   ]
  },
  {
   "cell_type": "markdown",
   "metadata": {},
   "source": [
    "## Models"
   ]
  },
  {
   "cell_type": "code",
   "execution_count": 22,
   "metadata": {
    "collapsed": false
   },
   "outputs": [],
   "source": [
    "labels = data['rating']"
   ]
  },
  {
   "cell_type": "code",
   "execution_count": 23,
   "metadata": {
    "collapsed": false
   },
   "outputs": [],
   "source": [
    "from sklearn.cross_validation import train_test_split\n",
    "\n",
    "# Split the data into random train and test subsets. Here we use 30% of the data for testing\n",
    "data_train, data_test, labels_train, labels_test = train_test_split(tfidf_matrix, labels, test_size=0.3, random_state=42)"
   ]
  },
  {
   "cell_type": "markdown",
   "metadata": {},
   "source": [
    "#### Logistic Regression"
   ]
  },
  {
   "cell_type": "code",
   "execution_count": 36,
   "metadata": {
    "collapsed": false
   },
   "outputs": [
    {
     "name": "stdout",
     "output_type": "stream",
     "text": [
      "0.4988093376159668\n"
     ]
    }
   ],
   "source": [
    "from sklearn.linear_model import LogisticRegression\n",
    "from sklearn.ensemble import RandomForestClassifier\n",
    "from sklearn import svm\n",
    "from sklearn.linear_model import LinearRegression\n",
    "import matplotlib.pyplot as plt\n",
    "%matplotlib inline\n",
    "\n",
    "start = time.time()\n",
    "\n",
    "# Initialize the model\n",
    "clf = LogisticRegression(C = 0.001)\n",
    "\n",
    "# Fit the model to the training data\n",
    "y_score = clf.fit(data_train, labels_train).predict(data_test)\n",
    "# Perform classific°ation of test data\n",
    "labels_predicted = clf.predict(data_test)\n",
    "\n",
    "print(time.time() - start)"
   ]
  },
  {
   "cell_type": "code",
   "execution_count": 37,
   "metadata": {
    "collapsed": false
   },
   "outputs": [
    {
     "data": {
      "text/plain": [
       "0.45126548196015076"
      ]
     },
     "execution_count": 37,
     "metadata": {},
     "output_type": "execute_result"
    }
   ],
   "source": [
    "np.sum(labels_predicted == labels_test) / len(labels_test)"
   ]
  },
  {
   "cell_type": "code",
   "execution_count": 38,
   "metadata": {
    "collapsed": false
   },
   "outputs": [
    {
     "data": {
      "text/plain": [
       "2.83189732543529"
      ]
     },
     "execution_count": 38,
     "metadata": {},
     "output_type": "execute_result"
    }
   ],
   "source": [
    "res = (np.abs(labels_predicted - labels_test))**2\n",
    "res.sum() / len(labels_test)"
   ]
  },
  {
   "cell_type": "code",
   "execution_count": 39,
   "metadata": {
    "collapsed": false
   },
   "outputs": [
    {
     "data": {
      "image/png": "[encoded data removed]",
      "text/plain": [
       "<matplotlib.figure.Figure at 0x18c0bd89ba8>"
      ]
     },
     "metadata": {},
     "output_type": "display_data"
    }
   ],
   "source": [
    "plt.hist(labels_predicted, color = 'b')\n",
    "plt.show()"
   ]
  },
  {
   "cell_type": "code",
   "execution_count": 40,
   "metadata": {
    "collapsed": false
   },
   "outputs": [
    {
     "data": {
      "image/png": "[encoded data removed]",
      "text/plain": [
       "<matplotlib.figure.Figure at 0x18c0bd3ed68>"
      ]
     },
     "metadata": {},
     "output_type": "display_data"
    }
   ],
   "source": [
    "plt.hist(labels_test)\n",
    "plt.show()"
   ]
  },
  {
   "cell_type": "code",
   "execution_count": 42,
   "metadata": {
    "collapsed": false
   },
   "outputs": [
    {
     "name": "stdout",
     "output_type": "stream",
     "text": [
      "65.45863628387451\n"
     ]
    }
   ],
   "source": [
    "from sklearn.neighbors import KNeighborsClassifier\n",
    "\n",
    "start = time.time()\n",
    "\n",
    "# Initialize the model\n",
    "clf = KNeighborsClassifier()\n",
    "\n",
    "# Fit the model to the training data\n",
    "y_score = clf.fit(data_train, labels_train).predict(data_test)\n",
    "# Perform classific°ation of test data\n",
    "labels_predicted = clf.predict(data_test)\n",
    "\n",
    "print(time.time() - start)"
   ]
  },
  {
   "cell_type": "code",
   "execution_count": 52,
   "metadata": {
    "collapsed": false
   },
   "outputs": [
    {
     "data": {
      "text/plain": [
       "0.80344641895530422"
      ]
     },
     "execution_count": 52,
     "metadata": {},
     "output_type": "execute_result"
    }
   ],
   "source": [
    "np.sum(np.abs(labels_predicted - labels_test) <= 2) / len(labels_test)"
   ]
  },
  {
   "cell_type": "code",
   "execution_count": 50,
   "metadata": {
    "collapsed": false
   },
   "outputs": [
    {
     "data": {
      "text/plain": [
       "{'boxes': [<matplotlib.lines.Line2D at 0x18c086ef438>],\n",
       " 'caps': [<matplotlib.lines.Line2D at 0x18c0c5bfe48>,\n",
       "  <matplotlib.lines.Line2D at 0x18c0c5bffd0>],\n",
       " 'fliers': [<matplotlib.lines.Line2D at 0x18c0c5c6fd0>],\n",
       " 'means': [],\n",
       " 'medians': [<matplotlib.lines.Line2D at 0x18c0c5c6828>],\n",
       " 'whiskers': [<matplotlib.lines.Line2D at 0x18c0c5badd8>,\n",
       "  <matplotlib.lines.Line2D at 0x18c0c5baf60>]}"
      ]
     },
     "execution_count": 50,
     "metadata": {},
     "output_type": "execute_result"
    },
    {
     "data": {
      "image/png": "[encoded data removed]",
      "text/plain": [
       "<matplotlib.figure.Figure at 0x18c0c3f9390>"
      ]
     },
     "metadata": {},
     "output_type": "display_data"
    }
   ],
   "source": [
    "res = (np.abs(labels_predicted - labels_test))\n",
    "plt.boxplot(res)"
   ]
  },
  {
   "cell_type": "code",
   "execution_count": 44,
   "metadata": {
    "collapsed": false
   },
   "outputs": [
    {
     "data": {
      "image/png": "[encoded data removed]",
      "text/plain": [
       "<matplotlib.figure.Figure at 0x18c086109e8>"
      ]
     },
     "metadata": {},
     "output_type": "display_data"
    }
   ],
   "source": [
    "plt.hist(labels_predicted, color = 'b')\n",
    "plt.show()"
   ]
  },
  {
   "cell_type": "code",
   "execution_count": 45,
   "metadata": {
    "collapsed": false
   },
   "outputs": [
    {
     "data": {
      "image/png": "[encoded data removed]",
      "text/plain": [
       "<matplotlib.figure.Figure at 0x18c086ef518>"
      ]
     },
     "metadata": {},
     "output_type": "display_data"
    }
   ],
   "source": [
    "plt.hist(labels_test)\n",
    "plt.show()"
   ]
  },
  {
   "cell_type": "code",
   "execution_count": null,
   "metadata": {
    "collapsed": true
   },
   "outputs": [],
   "source": [
    "from sklearn.ensemble import GradientBoostingClassifier\n",
    "\n",
    "start = time.time()\n",
    "\n",
    "# Initialize the model\n",
    "clf = GradientBoostingClassifier()\n",
    "\n",
    "# Fit the model to the training data\n",
    "y_score = clf.fit(data_train, labels_train).predict(data_test)\n",
    "# Perform classific°ation of test data\n",
    "labels_predicted = clf.predict(data_test)\n",
    "\n",
    "print(time.time() - start)"
   ]
  },
  {
   "cell_type": "code",
   "execution_count": null,
   "metadata": {
    "collapsed": true
   },
   "outputs": [],
   "source": []
  },
  {
   "cell_type": "markdown",
   "metadata": {
    "collapsed": true
   },
   "source": [
    "# The following consists of unreliable sketches"
   ]
  },
  {
   "cell_type": "markdown",
   "metadata": {},
   "source": [
    "## sentiment analysis"
   ]
  },
  {
   "cell_type": "code",
   "execution_count": 42,
   "metadata": {
    "collapsed": true
   },
   "outputs": [],
   "source": [
    "def sentiment(x):\n",
    "    \n",
    "    res = 0\n",
    "    \n",
    "    if x > 3:\n",
    "        res = 1\n",
    "        \n",
    "    return res"
   ]
  },
  {
   "cell_type": "code",
   "execution_count": 41,
   "metadata": {
    "collapsed": false
   },
   "outputs": [
    {
     "data": {
      "image/png": "[encoded data removed]",
      "text/plain": [
       "<matplotlib.figure.Figure at 0x2233d583668>"
      ]
     },
     "metadata": {},
     "output_type": "display_data"
    }
   ],
   "source": [
    "import matplotlib.pyplot as plt\n",
    "\n",
    "plt.hist(data['rating'])\n",
    "plt.show()"
   ]
  },
  {
   "cell_type": "code",
   "execution_count": 44,
   "metadata": {
    "collapsed": false
   },
   "outputs": [],
   "source": [
    "data['sentiment'] = data['rating'].apply(lambda x: sentiment(x))"
   ]
  },
  {
   "cell_type": "code",
   "execution_count": 46,
   "metadata": {
    "collapsed": true
   },
   "outputs": [],
   "source": [
    "\n",
    "# Split the data into random train and test subsets. Here we use 30% of the data for testing\n",
    "data_train, data_test, labels_train, labels_test = train_test_split(tfidf_matrix, data['sentiment'], test_size=0.3, random_state=42)"
   ]
  },
  {
   "cell_type": "code",
   "execution_count": 47,
   "metadata": {
    "collapsed": true
   },
   "outputs": [],
   "source": [
    "# Initialize the model\n",
    "clf = LogisticRegression()\n",
    "\n",
    "# Fit the model to the training data\n",
    "y_score = clf.fit(data_train, labels_train).predict(data_test)\n",
    "# Perform classific°ation of test data\n",
    "labels_predicted = clf.predict(data_test)"
   ]
  },
  {
   "cell_type": "code",
   "execution_count": 54,
   "metadata": {
    "collapsed": false
   },
   "outputs": [
    {
     "data": {
      "text/plain": [
       "0.68479626637946511"
      ]
     },
     "execution_count": 54,
     "metadata": {},
     "output_type": "execute_result"
    }
   ],
   "source": [
    "np.sum(labels_predicted == labels_test) / len(labels_test)"
   ]
  },
  {
   "cell_type": "code",
   "execution_count": 56,
   "metadata": {
    "collapsed": false
   },
   "outputs": [
    {
     "name": "stdout",
     "output_type": "stream",
     "text": [
      "             precision    recall  f1-score   support\n",
      "\n",
      "          0       0.38      0.02      0.05      3460\n",
      "          1       0.69      0.98      0.81      7682\n",
      "\n",
      "avg / total       0.59      0.68      0.57     11142\n",
      "\n",
      "The accuracy score is 68.48%\n",
      "Area under the ROC curve : 0.503287\n"
     ]
    },
    {
     "data": {
      "text/plain": [
       "<matplotlib.legend.Legend at 0x2233d87b908>"
      ]
     },
     "execution_count": 56,
     "metadata": {},
     "output_type": "execute_result"
    },
    {
     "data": {
      "image/png": "[encoded data removed]",
      "text/plain": [
       "<matplotlib.figure.Figure at 0x2233d72c630>"
      ]
     },
     "metadata": {},
     "output_type": "display_data"
    }
   ],
   "source": [
    "from sklearn.metrics import classification_report\n",
    "from sklearn.metrics import accuracy_score\n",
    "from sklearn.metrics import roc_curve, auc\n",
    "\n",
    "# Evaluation of the prediction\n",
    "print(classification_report(labels_test, labels_predicted))\n",
    "print(\"The accuracy score is {:.2%}\".format(accuracy_score(labels_test, labels_predicted)))\n",
    "\n",
    "# Compute ROC curve and area under the curve\n",
    "fpr, tpr, thresholds = roc_curve(labels_test, y_score)\n",
    "roc_auc = auc(fpr, tpr)\n",
    "print(\"Area under the ROC curve : %f\" % roc_auc)\n",
    "    \n",
    "import networkx as nx\n",
    "import matplotlib.pyplot as plt\n",
    "%matplotlib inline\n",
    "\n",
    "# Plot ROC curve\n",
    "plt.clf()\n",
    "plt.plot(fpr, tpr, label='ROC curve (area = %0.2f)' % roc_auc)\n",
    "plt.plot([0, 1], [0, 1], 'k--')\n",
    "plt.xlim([0.0, 1.0])\n",
    "plt.ylim([0.0, 1.0])\n",
    "plt.xlabel('False Positive Rate')\n",
    "plt.ylabel('True Positive Rate')\n",
    "plt.title('Receiver operating characteristic example')\n",
    "plt.legend(loc=\"lower right\")"
   ]
  },
  {
   "cell_type": "markdown",
   "metadata": {
    "collapsed": true
   },
   "source": [
    "Damn! This is bad!"
   ]
  },
  {
   "cell_type": "code",
   "execution_count": 73,
   "metadata": {
    "collapsed": true
   },
   "outputs": [],
   "source": [
    "from sklearn.model_selection import StratifiedKFold\n",
    "import time\n"
   ]
  },
  {
   "cell_type": "code",
   "execution_count": 77,
   "metadata": {
    "collapsed": false
   },
   "outputs": [
    {
     "name": "stdout",
     "output_type": "stream",
     "text": [
      "OK\n",
      "0.688691437803\n",
      "OK\n",
      "0.688711762171\n",
      "21.965462923049927\n"
     ]
    }
   ],
   "source": [
    "skf = StratifiedKFold(n_splits=2)\n",
    "y = data['sentiment']\n",
    "scores = []\n",
    "\n",
    "start = time.time()\n",
    "for train_index, test_index in skf.split(tfidf_matrix, y):\n",
    "    \n",
    "    X_train, X_test = tfidf_matrix[train_index], tfidf_matrix[test_index]\n",
    "    y_train, y_test = y[train_index], y[test_index]\n",
    "    \n",
    "    # Initialize the model\n",
    "    clf = LogisticRegression(penalty = 'l2', C = 0.05, solver = 'liblinear')\n",
    "    print('OK')\n",
    "\n",
    "    # Fit the model to the training data\n",
    "    clf.fit(X_train, y_train)\n",
    "    \n",
    "    # Perform classific°ation of test data\n",
    "    labels_predicted = clf.predict(X_test)\n",
    "    score = np.sum(labels_predicted == y_test) / len(y_test)\n",
    "    scores.append(score)\n",
    "    \n",
    "    print(score)\n",
    "    \n",
    "print(time.time() - start)"
   ]
  },
  {
   "cell_type": "code",
   "execution_count": 82,
   "metadata": {
    "collapsed": false
   },
   "outputs": [
    {
     "data": {
      "text/plain": [
       "0.6887117621714778"
      ]
     },
     "execution_count": 82,
     "metadata": {},
     "output_type": "execute_result"
    }
   ],
   "source": [
    "len(y_test[y_test == 1]) / len(y_test)"
   ]
  },
  {
   "cell_type": "code",
   "execution_count": 84,
   "metadata": {
    "collapsed": false
   },
   "outputs": [
    {
     "data": {
      "text/plain": [
       "array([1], dtype=int64)"
      ]
     },
     "execution_count": 84,
     "metadata": {},
     "output_type": "execute_result"
    }
   ],
   "source": [
    "np.unique(labels_predicted)"
   ]
  },
  {
   "cell_type": "code",
   "execution_count": null,
   "metadata": {
    "collapsed": true
   },
   "outputs": [],
   "source": []
  },
  {
   "cell_type": "code",
   "execution_count": null,
   "metadata": {
    "collapsed": true
   },
   "outputs": [],
   "source": []
  },
  {
   "cell_type": "markdown",
   "metadata": {
    "collapsed": true
   },
   "source": [
    "#### Random Forest"
   ]
  },
  {
   "cell_type": "code",
   "execution_count": 26,
   "metadata": {
    "collapsed": true
   },
   "outputs": [],
   "source": [
    "# Initialize the model\n",
    "clf = RandomForestClassifier()\n",
    "\n",
    "# Fit the model to the training data\n",
    "y_score = clf.fit(data_train, labels_train).predict(data_test)\n",
    "# Perform classific°ation of test data\n",
    "labels_predicted = clf.predict(data_test)"
   ]
  },
  {
   "cell_type": "code",
   "execution_count": 29,
   "metadata": {
    "collapsed": false
   },
   "outputs": [
    {
     "data": {
      "text/plain": [
       "0.38817088493986718"
      ]
     },
     "execution_count": 29,
     "metadata": {},
     "output_type": "execute_result"
    }
   ],
   "source": [
    "np.sum(labels_predicted == labels_test) / len(labels_test)"
   ]
  },
  {
   "cell_type": "code",
   "execution_count": 30,
   "metadata": {
    "collapsed": false
   },
   "outputs": [
    {
     "data": {
      "text/plain": [
       "2.7955483755160655"
      ]
     },
     "execution_count": 30,
     "metadata": {},
     "output_type": "execute_result"
    }
   ],
   "source": [
    "res = (np.abs(labels_predicted - labels_test))**2\n",
    "res.sum() / len(labels_test)"
   ]
  },
  {
   "cell_type": "code",
   "execution_count": 31,
   "metadata": {
    "collapsed": true
   },
   "outputs": [],
   "source": [
    "from sklearn.decomposition import PCA"
   ]
  },
  {
   "cell_type": "code",
   "execution_count": 32,
   "metadata": {
    "collapsed": true
   },
   "outputs": [],
   "source": [
    "# Initialize the model\n",
    "clf = LogisticRegression()\n",
    "\n",
    "\n",
    "pca = PCA(n_components=50)\n",
    "pca.fit(data_train)\n",
    "data_train = pca.fit_transform(data_train)\n",
    "data_test = pca.fit_transform(data_test)\n",
    "\n",
    "# Fit the model to the training data\n",
    "y_score = clf.fit(data_train, labels_train).predict(data_test)\n",
    "# Perform classific°ation of test data\n",
    "labels_predicted = clf.predict(data_test)"
   ]
  },
  {
   "cell_type": "code",
   "execution_count": 33,
   "metadata": {
    "collapsed": false
   },
   "outputs": [
    {
     "data": {
      "text/plain": [
       "0.45970202836115598"
      ]
     },
     "execution_count": 33,
     "metadata": {},
     "output_type": "execute_result"
    }
   ],
   "source": [
    "np.sum(labels_predicted == labels_test) / len(labels_test)"
   ]
  },
  {
   "cell_type": "code",
   "execution_count": null,
   "metadata": {
    "collapsed": true
   },
   "outputs": [],
   "source": []
  }
 ],
 "metadata": {
  "anaconda-cloud": {},
  "kernelspec": {
   "display_name": "Python [conda env:py35]",
   "language": "python",
   "name": "conda-env-py35-py"
  },
  "language_info": {
   "codemirror_mode": {
    "name": "ipython",
    "version": 3
   },
   "file_extension": ".py",
   "mimetype": "text/x-python",
   "name": "python",
   "nbconvert_exporter": "python",
   "pygments_lexer": "ipython3",
   "version": "3.5.2"
  }
 },
 "nbformat": 4,
 "nbformat_minor": 1
}
